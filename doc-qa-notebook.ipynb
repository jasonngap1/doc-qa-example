{
 "cells": [
  {
   "attachments": {},
   "cell_type": "markdown",
   "id": "6f16d3cf",
   "metadata": {},
   "source": [
    "### Document QA using Large Language Models (LLMs)"
   ]
  },
  {
   "cell_type": "markdown",
   "id": "d62e2206",
   "metadata": {},
   "source": [
    "Using LLM document extraction methods for better querying of food review data"
   ]
  },
  {
   "cell_type": "markdown",
   "id": "de44af20",
   "metadata": {},
   "source": [
    "This is the dummy notebook to the article I have written here:\n",
    "\n",
    "To visit my food recommender bot on Telegram, please use this link here: https://t.me/jasonthefoodie_bot"
   ]
  },
  {
   "attachments": {},
   "cell_type": "markdown",
   "id": "64fbf4d7",
   "metadata": {},
   "source": [
    "#### 1. Checkout the Dataset"
   ]
  },
  {
   "cell_type": "code",
   "execution_count": 1,
   "id": "bf952a66",
   "metadata": {},
   "outputs": [],
   "source": [
    "import pandas as pd"
   ]
  },
  {
   "cell_type": "code",
   "execution_count": null,
   "id": "d693b212",
   "metadata": {},
   "outputs": [],
   "source": [
    "# import data to take a quick look\n",
    "df = pd.read_csv(\"dummy_data.csv\")\n",
    "df"
   ]
  },
  {
   "attachments": {},
   "cell_type": "markdown",
   "id": "8cf05868",
   "metadata": {},
   "source": [
    "#### 2. Setting up the Vector Store"
   ]
  },
  {
   "cell_type": "code",
   "execution_count": null,
   "id": "72137eaa",
   "metadata": {},
   "outputs": [],
   "source": [
    "from langchain.vectorstores import DeepLake\n",
    "from langchain.embeddings.openai import OpenAIEmbeddings\n",
    "from langchain.document_loaders.csv_loader import CSVLoader\n",
    "import os"
   ]
  },
  {
   "cell_type": "code",
   "execution_count": 2,
   "id": "fd558119",
   "metadata": {},
   "outputs": [],
   "source": [
    "# define env variables for AzureOpenAI model\n",
    "os.environ[\"OPENAI_API_TYPE\"] = \"azure\"\n",
    "os.environ[\"OPENAI_API_BASE\"] = \"OPENAI_API_BASE\"\n",
    "os.environ[\"OPENAI_API_KEY\"] = \"OPENAI_API_KEY\"\n",
    "os.environ[\"OPENAI_API_VERSION\"] = \"2023-03-15-preview\""
   ]
  },
  {
   "cell_type": "code",
   "execution_count": 3,
   "id": "7e2e061f",
   "metadata": {},
   "outputs": [],
   "source": [
    "# instantiate OpenAIEmbeddings\n",
    "# note that chunk_size is set to 1 due AzureOpenAI limitations: https://learn.microsoft.com/en-us/azure/ai-services/openai/reference#embeddings\n",
    "embeddings = OpenAIEmbeddings(deployment=\"embedding\", chunk_size=1)"
   ]
  },
  {
   "cell_type": "code",
   "execution_count": 7,
   "id": "002a4999",
   "metadata": {},
   "outputs": [],
   "source": [
    "# instantiate CSV loader and load food reviews with review link as source\n",
    "loader = CSVLoader(file_path='dummy_data.csv', csv_args={\n",
    "        \"delimiter\": \",\",\n",
    "}, encoding='utf-8', source_column='review_link')\n",
    "data = loader.load()"
   ]
  },
  {
   "cell_type": "code",
   "execution_count": null,
   "id": "ae2164ad",
   "metadata": {},
   "outputs": [],
   "source": [
    "# see what the document content is like\n",
    "print(data[0])"
   ]
  },
  {
   "cell_type": "code",
   "execution_count": null,
   "id": "27b9206e",
   "metadata": {},
   "outputs": [],
   "source": [
    "# create deeplake db\n",
    "db = DeepLake(\n",
    "    dataset_path=\"./my_deeplake/\", embedding_function=embeddings, overwrite=True\n",
    ")\n",
    "db.add_documents(data)"
   ]
  },
  {
   "cell_type": "code",
   "execution_count": null,
   "id": "2cd06637",
   "metadata": {},
   "outputs": [],
   "source": [
    "# load from existing DB, if database exists\n",
    "db = DeepLake(\n",
    "    dataset_path=\"./my_deeplake/\", embedding_function=embeddings, read_only=True\n",
    ")"
   ]
  },
  {
   "cell_type": "code",
   "execution_count": 5,
   "id": "9fbfd3f8",
   "metadata": {},
   "outputs": [],
   "source": [
    "# example query\n",
    "query = \"What places selling seafood bee hoon have you been to?\"\n",
    "docs = db.similarity_search(query)"
   ]
  },
  {
   "attachments": {},
   "cell_type": "markdown",
   "id": "6db5a2ec",
   "metadata": {},
   "source": [
    "#### 3. Generating Prompts with Context"
   ]
  },
  {
   "cell_type": "code",
   "execution_count": null,
   "id": "9c8aa6c8",
   "metadata": {},
   "outputs": [],
   "source": [
    "from langchain.chat_models import AzureChatOpenAI\n",
    "from langchain.prompts import PromptTemplate\n",
    "from langchain.chains.question_answering import load_qa_chain"
   ]
  },
  {
   "cell_type": "code",
   "execution_count": null,
   "id": "96bff021",
   "metadata": {},
   "outputs": [],
   "source": [
    "# define prompt template\n",
    "prompt_template = \"\"\"You are a food recommender bot that has visited and given reviews for places given in the context. Help users find food recommendations.\n",
    "Use only the context given to answer the question at the end. If you don't know the answer, just say that you don't know, don't try to make up an answer.\n",
    "Filter out any results from the context that you are not so confident of.\n",
    "Answer the user directly first and then list down your suggestions according to the format below, if the user is asking for suggestions. End your answer right after giving the suggestions. Placeholders are indicated using [] and comments are indicated using (). Recommend more than 1 option to the user, if possible.\n",
    "Keep your answer to at most 3500 chracters.\n",
    "\n",
    "[Short direct answer to the user's question]\n",
    "\n",
    "Here are my recommendations:\n",
    "🏠 [Name of place]\n",
    "<i>[venue tags]</i>\n",
    "✨ Avg Rating: [Rating of venue]\n",
    "💸 Price: [Estimated price of dining at venue] (this is optional. If not found or not clear, use a dash instead.)\n",
    "📍 <a href=[Location of venue] ></a>\n",
    "📝 Reviews:\n",
    "[list of review_link, seperated by linespace] (Use this format: 1. <a href=[review_link] >[food_desc_title text]</a>)\n",
    "\n",
    "For example,\n",
    "\n",
    "🏠 Doodak\n",
    "<i>Steak, Date Night, Korean, Seafood</i>\n",
    "✨ Avg Rating: 4\n",
    "💸 Price: ~$100/pax\n",
    "📍 <a href=\"https://www.google.com/maps/search/?api=1&query=1.3521,103.8198\"></a>\n",
    "📝 Reviews:\n",
    "1. <a href=\"https://abc.xyz/review1\">Good food and presentation</a>\n",
    "\n",
    "Here is the context:\n",
    "{context}\n",
    "\n",
    "Question: {question}\n",
    "\"\"\"\n",
    "\n",
    "PROMPT = PromptTemplate(\n",
    "    template=prompt_template, input_variables=[\"context\", \"question\"]\n",
    ")"
   ]
  },
  {
   "cell_type": "code",
   "execution_count": null,
   "id": "222922e1",
   "metadata": {},
   "outputs": [],
   "source": [
    "# Instatiate LLM\n",
    "llm = AzureChatOpenAI(\n",
    "    deployment_name='DEPLOYMENT_NAME',\n",
    "    temperature=0\n",
    ")"
   ]
  },
  {
   "cell_type": "code",
   "execution_count": null,
   "id": "f62a40c0",
   "metadata": {},
   "outputs": [],
   "source": [
    "# instantiate QA chain\n",
    "chain = load_qa_chain(llm, chain_type=\"stuff\", prompt=PROMPT)"
   ]
  },
  {
   "cell_type": "code",
   "execution_count": null,
   "id": "82ca74cc",
   "metadata": {},
   "outputs": [],
   "source": [
    "# pass example query to vector store and QA chain\n",
    "query = \"Any hawker food to recommend?\"\n",
    "docs = db.similarity_search(query)\n",
    "output = chain({\"input_documents\": docs, \"question\": query}, return_only_outputs=True)"
   ]
  },
  {
   "cell_type": "code",
   "execution_count": null,
   "metadata": {},
   "outputs": [],
   "source": [
    "# print results\n",
    "# note that there is some hallucination here, as links to the review are not mine.\n",
    "print(output[\"output_text\"])"
   ]
  }
 ],
 "metadata": {
  "kernelspec": {
   "display_name": "venv",
   "language": "python",
   "name": "python3"
  },
  "language_info": {
   "codemirror_mode": {
    "name": "ipython",
    "version": 3
   },
   "file_extension": ".py",
   "mimetype": "text/x-python",
   "name": "python",
   "nbconvert_exporter": "python",
   "pygments_lexer": "ipython3",
   "version": "3.8.10"
  }
 },
 "nbformat": 4,
 "nbformat_minor": 5
}
